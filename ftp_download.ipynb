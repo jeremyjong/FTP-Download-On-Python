{
 "cells": [
  {
   "cell_type": "code",
   "execution_count": 1,
   "metadata": {},
   "outputs": [],
   "source": [
    "import ftplib"
   ]
  },
  {
   "cell_type": "code",
   "execution_count": 2,
   "metadata": {},
   "outputs": [],
   "source": [
    "ftp = ftplib.FTP(\"192.168.11.50\")\n"
   ]
  },
  {
   "cell_type": "code",
   "execution_count": 3,
   "metadata": {},
   "outputs": [
    {
     "data": {
      "text/plain": [
       "'230 User admin logged in'"
      ]
     },
     "execution_count": 3,
     "metadata": {},
     "output_type": "execute_result"
    }
   ],
   "source": [
    "ftp.login(user=\"admin\",passwd=\"password\")"
   ]
  },
  {
   "cell_type": "code",
   "execution_count": 4,
   "metadata": {},
   "outputs": [
    {
     "name": "stdout",
     "output_type": "stream",
     "text": [
      "drwxr-xr-x   7 root     root           98 Nov 17  2017 disk1\n"
     ]
    }
   ],
   "source": [
    "ftp.dir()"
   ]
  },
  {
   "cell_type": "code",
   "execution_count": 6,
   "metadata": {},
   "outputs": [
    {
     "data": {
      "text/plain": [
       "'250 CWD command successful'"
      ]
     },
     "execution_count": 6,
     "metadata": {},
     "output_type": "execute_result"
    }
   ],
   "source": [
    "ftp.cwd(\"disk1//share\")"
   ]
  },
  {
   "cell_type": "code",
   "execution_count": 7,
   "metadata": {},
   "outputs": [
    {
     "name": "stdout",
     "output_type": "stream",
     "text": [
      "drwxrwxrwx 163 nobody   nogroup      8192 Sep 20 13:15 (Artist Galleries)\n",
      "drwxrwxrwx   4 nobody   nogroup      4096 Oct  9 07:53 (CAD)\n",
      "drwxrwxrwx  10 nobody   nogroup      4096 Oct 17 08:15 (Courses)\n",
      "drwxrwxrwx   2 nobody   nogroup     40960 Aug 13 20:59 (HAnime)\n",
      "drwxrwxrwx  21 nobody   nogroup      4096 Oct 17 08:10 (Japanese Video)\n",
      "drwxrwxrwx   3 nobody   nogroup    114688 Oct 17 13:49 (Manga)\n",
      "drwxrwxrwx  13 nobody   nogroup      4096 Sep  4 11:00 (Software)\n",
      "drwxrwxrwx  35 nobody   nogroup      4096 Aug 11 06:46 (Voice Drama)\n",
      "drwxrwxrwx   2 nobody   nogroup         6 Sep 18 08:25 (Western AV)\n",
      "drwxrwxrwx 367 nobody   nogroup     36864 Oct  2 08:06 (ã²ã¼ã CG)\n",
      "drwxrwxrwx  32 nobody   nogroup     36864 May  9 13:14 (åäººCGé)\n",
      "drwxrwxrwx  34 nobody   nogroup     12288 Aug 10 21:30 (åäººã¢ãã¡)\n",
      "drwxrwxrwx 115 nobody   nogroup    221184 May  9 09:25 (åäººèª)\n",
      "drwxrwxrwx   9 nobody   nogroup      4096 Jun  7 22:19 (å¤§å­¦é¢ä¿)\n",
      "drwxrwxrwx  60 nobody   nogroup     45056 May  3 08:59 (æå¹´ã³ããã¯)\n",
      "drwxrwxrwx 285 nobody   nogroup     32768 Sep 26 11:21 0912\n",
      "drwxrwxrwx   7 nobody   nogroup      4096 Sep 20 13:24 3DCG\n",
      "drwxrwxrwx 144 nobody   nogroup     20480 Oct 17 07:35 DONE\n",
      "drwxrwxrwx   2 nobody   nogroup         6 Oct 17 07:35 Downloads\n",
      "drwxrwxrwx  16 nobody   nogroup      4096 Apr 29 22:11 Pictures\n",
      "drwxrwxrwx   2 nobody   nogroup        66 Sep 23  2020 excellent grade\n",
      "-rwxrwxrwx   1 nobody   nogroup  13107200 Oct  1 22:06 {3629C49D-42C6-4CD8-B2A9-606E13C1E6EA}\n"
     ]
    }
   ],
   "source": [
    "ftp.dir()"
   ]
  },
  {
   "cell_type": "code",
   "execution_count": null,
   "metadata": {},
   "outputs": [],
   "source": []
  }
 ],
 "metadata": {
  "interpreter": {
   "hash": "ae290cde4634a6443381d55bbe6f1180de26a7de00f3f0eb338834ba70f07938"
  },
  "kernelspec": {
   "display_name": "Python 3.8.12 64-bit ('base': conda)",
   "name": "python3"
  },
  "language_info": {
   "codemirror_mode": {
    "name": "ipython",
    "version": 3
   },
   "file_extension": ".py",
   "mimetype": "text/x-python",
   "name": "python",
   "nbconvert_exporter": "python",
   "pygments_lexer": "ipython3",
   "version": "3.8.12"
  },
  "orig_nbformat": 4
 },
 "nbformat": 4,
 "nbformat_minor": 2
}
