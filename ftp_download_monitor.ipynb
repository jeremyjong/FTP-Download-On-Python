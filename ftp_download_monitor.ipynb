{
 "cells": [
  {
   "cell_type": "code",
   "execution_count": 33,
   "metadata": {},
   "outputs": [],
   "source": [
    "from ftplib import FTP\n",
    "from time import sleep"
   ]
  },
  {
   "cell_type": "code",
   "execution_count": 34,
   "metadata": {},
   "outputs": [
    {
     "data": {
      "text/plain": [
       "'250 CWD command successful'"
      ]
     },
     "execution_count": 34,
     "metadata": {},
     "output_type": "execute_result"
    }
   ],
   "source": [
    "ftp = FTP(\"192.168.11.50\")\n",
    "ftp.encoding='utf-8'\n",
    "ftp.login(user=\"admin\",passwd=\"password\")\n",
    "ftp.cwd(\"disk1//share//test\")"
   ]
  },
  {
   "cell_type": "code",
   "execution_count": 35,
   "metadata": {},
   "outputs": [
    {
     "name": "stdout",
     "output_type": "stream",
     "text": [
      "-rwxrw-rw-   1 nobody   nogroup    171208 Jul 31  2020 3.JPG\n",
      "-rwxrw-rw-   1 nobody   nogroup   5360901 Mar 21  2021 57f95f67a147deb89dcc620167f49a1c_waifu2x_2x_2n_jpg.png\n"
     ]
    }
   ],
   "source": [
    "ftp.dir()"
   ]
  },
  {
   "cell_type": "code",
   "execution_count": 36,
   "metadata": {},
   "outputs": [
    {
     "data": {
      "text/plain": [
       "['57f95f67a147deb89dcc620167f49a1c_waifu2x_2x_2n_jpg.png', '3.JPG']"
      ]
     },
     "execution_count": 36,
     "metadata": {},
     "output_type": "execute_result"
    }
   ],
   "source": [
    "ftp.nlst()"
   ]
  },
  {
   "cell_type": "code",
   "execution_count": 3,
   "metadata": {},
   "outputs": [
    {
     "name": "stdout",
     "output_type": "stream",
     "text": [
      "disk1/share/test/新しいフォルダー/5.JPG\n",
      "disk1/share/test/新しいフォルダー/新しいフォルダー/3.JPG\n",
      "disk1/share/test/新しいフォルダー/4.JPG\n",
      "disk1/share/test/新しいフォルダー/57f95f67a147deb89dcc620167f49a1c_waifu2x_2x_2n_jpg.png\n",
      "disk1/share/test/新しいフォルダー/3.JPG\n",
      "disk1/share/test/新しいフォルダー/新しいフォルダー/57f95f67a147deb89dcc620167f49a1c_waifu2x_2x_2n_jpg.png\n",
      "disk1/share/test/新しいフォルダー/新しいフォルダー/5.JPG\n"
     ]
    },
    {
     "ename": "KeyboardInterrupt",
     "evalue": "",
     "output_type": "error",
     "traceback": [
      "\u001b[1;31m---------------------------------------------------------------------------\u001b[0m",
      "\u001b[1;31mKeyboardInterrupt\u001b[0m                         Traceback (most recent call last)",
      "\u001b[1;32m~\\AppData\\Local\\Temp/ipykernel_8964/1614092329.py\u001b[0m in \u001b[0;36m<module>\u001b[1;34m\u001b[0m\n\u001b[0;32m     13\u001b[0m         \u001b[0msleep\u001b[0m\u001b[1;33m(\u001b[0m\u001b[1;36m5\u001b[0m\u001b[1;33m)\u001b[0m\u001b[1;33m\u001b[0m\u001b[1;33m\u001b[0m\u001b[0m\n\u001b[0;32m     14\u001b[0m \u001b[1;33m\u001b[0m\u001b[0m\n\u001b[1;32m---> 15\u001b[1;33m \u001b[1;32mfor\u001b[0m \u001b[0madd\u001b[0m\u001b[1;33m,\u001b[0m \u001b[0mremove\u001b[0m \u001b[1;32min\u001b[0m \u001b[0mchangemon\u001b[0m\u001b[1;33m(\u001b[0m\u001b[1;33m)\u001b[0m\u001b[1;33m:\u001b[0m\u001b[1;33m\u001b[0m\u001b[1;33m\u001b[0m\u001b[0m\n\u001b[0m\u001b[0;32m     16\u001b[0m     \u001b[0mprint\u001b[0m\u001b[1;33m(\u001b[0m\u001b[1;34m'\\n'\u001b[0m\u001b[1;33m.\u001b[0m\u001b[0mjoin\u001b[0m\u001b[1;33m(\u001b[0m\u001b[1;34m'%s'\u001b[0m \u001b[1;33m%\u001b[0m \u001b[0mi\u001b[0m \u001b[1;32mfor\u001b[0m \u001b[0mi\u001b[0m \u001b[1;32min\u001b[0m \u001b[0madd\u001b[0m\u001b[1;33m)\u001b[0m\u001b[1;33m)\u001b[0m\u001b[1;33m\u001b[0m\u001b[1;33m\u001b[0m\u001b[0m\n",
      "\u001b[1;32m~\\AppData\\Local\\Temp/ipykernel_8964/1614092329.py\u001b[0m in \u001b[0;36mchangemon\u001b[1;34m(dir)\u001b[0m\n\u001b[0;32m     11\u001b[0m \u001b[1;33m\u001b[0m\u001b[0m\n\u001b[0;32m     12\u001b[0m         \u001b[0mls_prev\u001b[0m \u001b[1;33m=\u001b[0m \u001b[0mls\u001b[0m\u001b[1;33m\u001b[0m\u001b[1;33m\u001b[0m\u001b[0m\n\u001b[1;32m---> 13\u001b[1;33m         \u001b[0msleep\u001b[0m\u001b[1;33m(\u001b[0m\u001b[1;36m5\u001b[0m\u001b[1;33m)\u001b[0m\u001b[1;33m\u001b[0m\u001b[1;33m\u001b[0m\u001b[0m\n\u001b[0m\u001b[0;32m     14\u001b[0m \u001b[1;33m\u001b[0m\u001b[0m\n\u001b[0;32m     15\u001b[0m \u001b[1;32mfor\u001b[0m \u001b[0madd\u001b[0m\u001b[1;33m,\u001b[0m \u001b[0mremove\u001b[0m \u001b[1;32min\u001b[0m \u001b[0mchangemon\u001b[0m\u001b[1;33m(\u001b[0m\u001b[1;33m)\u001b[0m\u001b[1;33m:\u001b[0m\u001b[1;33m\u001b[0m\u001b[1;33m\u001b[0m\u001b[0m\n",
      "\u001b[1;31mKeyboardInterrupt\u001b[0m: "
     ]
    }
   ],
   "source": [
    "dir_set = r'disk1//share//test/*/*'\n",
    "\n",
    "def changemon(dir=dir_set):\n",
    "    ls_prev = set()\n",
    "\n",
    "    while True:\n",
    "        ls = set(ftp.nlst(dir))\n",
    "\n",
    "        add, rem = ls-ls_prev, ls_prev-ls\n",
    "        if add or rem: yield add, rem\n",
    "\n",
    "        ls_prev = ls\n",
    "        sleep(5)\n",
    "\n",
    "for add, remove in changemon():\n",
    "    print('\\n'.join('%s' % i for i in add))"
   ]
  },
  {
   "cell_type": "code",
   "execution_count": 37,
   "metadata": {},
   "outputs": [
    {
     "data": {
      "text/plain": [
       "'221 Goodbye.'"
      ]
     },
     "execution_count": 37,
     "metadata": {},
     "output_type": "execute_result"
    }
   ],
   "source": [
    "filenames = ftp.nlst()\n",
    "for filename in filenames:\n",
    "    with open( filename, 'wb' ) as file :\n",
    "        ftp.retrbinary('RETR %s' % filename, file.write)\n",
    "        file.close()\n",
    "\n",
    "ftp.quit()"
   ]
  },
  {
   "cell_type": "code",
   "execution_count": 29,
   "metadata": {},
   "outputs": [
    {
     "data": {
      "text/plain": [
       "['新しいフォルダー', '57f95f67a147deb89dcc620167f49a1c_waifu2x_2x_2n_jpg.png', '3.JPG']"
      ]
     },
     "execution_count": 29,
     "metadata": {},
     "output_type": "execute_result"
    }
   ],
   "source": [
    "filenames"
   ]
  },
  {
   "cell_type": "code",
   "execution_count": null,
   "metadata": {},
   "outputs": [],
   "source": []
  }
 ],
 "metadata": {
  "interpreter": {
   "hash": "ae290cde4634a6443381d55bbe6f1180de26a7de00f3f0eb338834ba70f07938"
  },
  "kernelspec": {
   "display_name": "Python 3.8.12 64-bit ('base': conda)",
   "name": "python3"
  },
  "language_info": {
   "codemirror_mode": {
    "name": "ipython",
    "version": 3
   },
   "file_extension": ".py",
   "mimetype": "text/x-python",
   "name": "python",
   "nbconvert_exporter": "python",
   "pygments_lexer": "ipython3",
   "version": "3.8.12"
  },
  "orig_nbformat": 4
 },
 "nbformat": 4,
 "nbformat_minor": 2
}
